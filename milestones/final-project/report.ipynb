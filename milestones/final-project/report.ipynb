{
 "cells": [
  {
   "cell_type": "markdown",
   "id": "8bc5ad76-9de6-47c6-8581-05314f3eefbb",
   "metadata": {},
   "source": [
    "# Predicting Airbnb nightly price from property and host data"
   ]
  },
  {
   "cell_type": "markdown",
   "id": "a6eac281-2128-452f-b16c-2f6fa76c8f8e",
   "metadata": {},
   "source": [
    "**Tomas Beuzen, May 2021**"
   ]
  },
  {
   "cell_type": "code",
   "execution_count": 13,
   "id": "82c7bf34-a4b8-4a94-aedb-c32cda4e01e9",
   "metadata": {
    "tags": [
     "hide-input"
    ]
   },
   "outputs": [],
   "source": [
    "import pandas as pd"
   ]
  },
  {
   "cell_type": "markdown",
   "id": "e772e134-5c46-4393-a020-dab90ed29059",
   "metadata": {},
   "source": [
    "## Summary"
   ]
  },
  {
   "cell_type": "markdown",
   "id": "2b135d85-b9b6-4bb0-9057-c5427009eb03",
   "metadata": {},
   "source": [
    "Here we attempt to build a regression model, using the k-nearest neighbors algorithm, which uses characteristics of an Airbnb property and host (price, bedrooms, host response rate, etc.) to predict the daily price of the property. "
   ]
  },
  {
   "cell_type": "markdown",
   "id": "d34def52-7b16-42aa-87b5-3c1eb8eb4750",
   "metadata": {},
   "source": [
    "## Introduction"
   ]
  },
  {
   "cell_type": "markdown",
   "id": "5f048235-9793-4ee8-b130-7b70a2d05ac3",
   "metadata": {},
   "source": [
    "As of June, 2021, Airbnb rentals in Vancouver average \\$160 a night and provide just over \\$1600 in average monthly revenue to hosts {cite}`airdna_2021`. However, occupancy rates vary significantly amongst currently listed properties with some properties boasting 100% occupancy rates, while others are at 0% some months {cite}`airdna_2021`. Competitively pricing a property is a key factor influencing occupancy rates, and hence revenue {cite}`airbnb_2021`.\n",
    "\n",
    "Here we investigate whether a machine learning algorithm can be used to predict the nightly price of an Airbnb property based on characteristics of the property and the host. Such a model could help prospective and existing hosts determine how to competitively and accurately price their new or existing property, relative to historical data, with minimal time and effort."
   ]
  },
  {
   "cell_type": "markdown",
   "id": "303bb4fa-0e66-4b45-8d31-e7b26171cb80",
   "metadata": {},
   "source": [
    "## Methods"
   ]
  },
  {
   "cell_type": "markdown",
   "id": "0a8892ba-f58e-4d8b-904b-38a7d460bfd6",
   "metadata": {},
   "source": [
    "### Data"
   ]
  },
  {
   "cell_type": "markdown",
   "id": "b0c08ee7-2e23-43c4-9f79-9b3687352636",
   "metadata": {},
   "source": [
    "The data used to build the model contains all the active Airbnb listings for Vancouver, Canada. The data set comes from [Inside Airbnb](http://insideairbnb.com/) and is updated monthly - this project used the most recent version as of writing, from April 2021.\n",
    "\n",
    "The data set comprises 10 features:\n",
    "\n",
    "- The host response rate (`host_response_rate`);\n",
    "- The host acceptance rate (`host_acceptance_rate`);\n",
    "- The property location (`latitude` and `longitude`);\n",
    "- Number of bedrooms, number of beds, and number of guests the property accommodates (`bedrooms`, `beds` and `accommodates`);\n",
    "- The minimum number of nights a guests must stay (`minimum_nights`); and,\n",
    "- The review score of the property and number of reviews (`review_scores_rating`, and `number_of_reviews`).\n",
    "\n",
    "The target variable to predict is the property's daily price (`price`). This is a number greater than 0."
   ]
  },
  {
   "cell_type": "code",
   "execution_count": 14,
   "id": "118fe001-22bc-42eb-89ab-6656a99c3243",
   "metadata": {
    "tags": [
     "hide-input"
    ]
   },
   "outputs": [
    {
     "data": {
      "text/html": [
       "<div>\n",
       "<style scoped>\n",
       "    .dataframe tbody tr th:only-of-type {\n",
       "        vertical-align: middle;\n",
       "    }\n",
       "\n",
       "    .dataframe tbody tr th {\n",
       "        vertical-align: top;\n",
       "    }\n",
       "\n",
       "    .dataframe thead th {\n",
       "        text-align: right;\n",
       "    }\n",
       "</style>\n",
       "<table border=\"1\" class=\"dataframe\">\n",
       "  <thead>\n",
       "    <tr style=\"text-align: right;\">\n",
       "      <th></th>\n",
       "      <th>host_response_rate</th>\n",
       "      <th>host_acceptance_rate</th>\n",
       "      <th>latitude</th>\n",
       "      <th>longitude</th>\n",
       "      <th>accommodates</th>\n",
       "      <th>bedrooms</th>\n",
       "      <th>beds</th>\n",
       "      <th>price</th>\n",
       "      <th>minimum_nights</th>\n",
       "      <th>number_of_reviews</th>\n",
       "      <th>rating</th>\n",
       "    </tr>\n",
       "  </thead>\n",
       "  <tbody>\n",
       "    <tr>\n",
       "      <th>0</th>\n",
       "      <td>93</td>\n",
       "      <td>87</td>\n",
       "      <td>49.28872</td>\n",
       "      <td>-123.12046</td>\n",
       "      <td>5</td>\n",
       "      <td>2.0</td>\n",
       "      <td>2.0</td>\n",
       "      <td>150.0</td>\n",
       "      <td>90</td>\n",
       "      <td>16</td>\n",
       "      <td>93.0</td>\n",
       "    </tr>\n",
       "    <tr>\n",
       "      <th>1</th>\n",
       "      <td>100</td>\n",
       "      <td>57</td>\n",
       "      <td>49.28201</td>\n",
       "      <td>-123.12669</td>\n",
       "      <td>2</td>\n",
       "      <td>1.0</td>\n",
       "      <td>1.0</td>\n",
       "      <td>85.0</td>\n",
       "      <td>30</td>\n",
       "      <td>430</td>\n",
       "      <td>93.0</td>\n",
       "    </tr>\n",
       "    <tr>\n",
       "      <th>2</th>\n",
       "      <td>100</td>\n",
       "      <td>78</td>\n",
       "      <td>49.25622</td>\n",
       "      <td>-123.06607</td>\n",
       "      <td>2</td>\n",
       "      <td>1.0</td>\n",
       "      <td>1.0</td>\n",
       "      <td>145.0</td>\n",
       "      <td>30</td>\n",
       "      <td>88</td>\n",
       "      <td>98.0</td>\n",
       "    </tr>\n",
       "    <tr>\n",
       "      <th>3</th>\n",
       "      <td>100</td>\n",
       "      <td>0</td>\n",
       "      <td>49.26557</td>\n",
       "      <td>-123.09600</td>\n",
       "      <td>2</td>\n",
       "      <td>1.0</td>\n",
       "      <td>1.0</td>\n",
       "      <td>51.0</td>\n",
       "      <td>30</td>\n",
       "      <td>118</td>\n",
       "      <td>91.0</td>\n",
       "    </tr>\n",
       "    <tr>\n",
       "      <th>4</th>\n",
       "      <td>100</td>\n",
       "      <td>100</td>\n",
       "      <td>49.27569</td>\n",
       "      <td>-123.07057</td>\n",
       "      <td>2</td>\n",
       "      <td>1.0</td>\n",
       "      <td>1.0</td>\n",
       "      <td>79.0</td>\n",
       "      <td>1</td>\n",
       "      <td>390</td>\n",
       "      <td>100.0</td>\n",
       "    </tr>\n",
       "  </tbody>\n",
       "</table>\n",
       "</div>"
      ],
      "text/plain": [
       "   host_response_rate  host_acceptance_rate  latitude  longitude  \\\n",
       "0                  93                    87  49.28872 -123.12046   \n",
       "1                 100                    57  49.28201 -123.12669   \n",
       "2                 100                    78  49.25622 -123.06607   \n",
       "3                 100                     0  49.26557 -123.09600   \n",
       "4                 100                   100  49.27569 -123.07057   \n",
       "\n",
       "   accommodates  bedrooms  beds  price  minimum_nights  number_of_reviews  \\\n",
       "0             5       2.0   2.0  150.0              90                 16   \n",
       "1             2       1.0   1.0   85.0              30                430   \n",
       "2             2       1.0   1.0  145.0              30                 88   \n",
       "3             2       1.0   1.0   51.0              30                118   \n",
       "4             2       1.0   1.0   79.0               1                390   \n",
       "\n",
       "   rating  \n",
       "0    93.0  \n",
       "1    93.0  \n",
       "2    98.0  \n",
       "3    91.0  \n",
       "4   100.0  "
      ]
     },
     "execution_count": 14,
     "metadata": {},
     "output_type": "execute_result"
    }
   ],
   "source": [
    "pd.read_csv(\"data/processed/airbnb_wrangled.csv\").head()"
   ]
  },
  {
   "cell_type": "markdown",
   "id": "03888a5d-05b0-45fc-aebe-8433598cd362",
   "metadata": {},
   "source": [
    "### Splitting data into training and testing sets"
   ]
  },
  {
   "cell_type": "markdown",
   "id": "6cc045df-c452-4141-b7f7-647f31087c51",
   "metadata": {},
   "source": [
    "The data was split into an 80% train set and 20% test set:"
   ]
  },
  {
   "cell_type": "code",
   "execution_count": 17,
   "id": "4827af4d-49f6-485f-9a7a-d5937b962c0f",
   "metadata": {
    "tags": [
     "hide-input"
    ]
   },
   "outputs": [
    {
     "data": {
      "text/html": [
       "<div>\n",
       "<style scoped>\n",
       "    .dataframe tbody tr th:only-of-type {\n",
       "        vertical-align: middle;\n",
       "    }\n",
       "\n",
       "    .dataframe tbody tr th {\n",
       "        vertical-align: top;\n",
       "    }\n",
       "\n",
       "    .dataframe thead th {\n",
       "        text-align: right;\n",
       "    }\n",
       "</style>\n",
       "<table border=\"1\" class=\"dataframe\">\n",
       "  <thead>\n",
       "    <tr style=\"text-align: right;\">\n",
       "      <th></th>\n",
       "      <th>Fraction</th>\n",
       "      <th>Median price</th>\n",
       "      <th>Mean price</th>\n",
       "      <th>Std price</th>\n",
       "    </tr>\n",
       "    <tr>\n",
       "      <th>Partition</th>\n",
       "      <th></th>\n",
       "      <th></th>\n",
       "      <th></th>\n",
       "      <th></th>\n",
       "    </tr>\n",
       "  </thead>\n",
       "  <tbody>\n",
       "    <tr>\n",
       "      <th>Train</th>\n",
       "      <td>0.8</td>\n",
       "      <td>113.0</td>\n",
       "      <td>132.7</td>\n",
       "      <td>80.7</td>\n",
       "    </tr>\n",
       "    <tr>\n",
       "      <th>Test</th>\n",
       "      <td>0.2</td>\n",
       "      <td>112.5</td>\n",
       "      <td>133.5</td>\n",
       "      <td>79.5</td>\n",
       "    </tr>\n",
       "  </tbody>\n",
       "</table>\n",
       "</div>"
      ],
      "text/plain": [
       "           Fraction  Median price  Mean price  Std price\n",
       "Partition                                               \n",
       "Train           0.8         113.0       132.7       80.7\n",
       "Test            0.2         112.5       133.5       79.5"
      ]
     },
     "execution_count": 17,
     "metadata": {},
     "output_type": "execute_result"
    }
   ],
   "source": [
    "pd.read_csv(\"results/train_test_table.csv\", index_col=0)"
   ]
  },
  {
   "cell_type": "markdown",
   "id": "0292506c-dfbb-4843-b044-5fffb5708d97",
   "metadata": {},
   "source": [
    "### Analysis"
   ]
  },
  {
   "cell_type": "markdown",
   "id": "002213f2-f5aa-4aae-9976-72de69e035f7",
   "metadata": {},
   "source": [
    "The k-nearest neighbors algorithm (kNN) was used to build a regression model to predict the daily price of a property based on the 10 input features. As kNN is a distance-based algorithm, it was important to scale each feature to a uniform scale. As a result, each feature was normalized to be between 0 and 1 before any model fitting.\n",
    "\n",
    "The hyperparameter `k` (number of nearest neighbors) was chosen using 10-fold cross validation with mean-absolute-error as the scoring metric. The Python programming language {cite}`python_1995` and the following Python packages were used to perform the analysis: pandas {cite}`pandas_2020`, scikit-learn {cite}`scikit_learn_2011`, altair {cite}`vanderplas_2018`, seaborn {cite}`waskom_2021`."
   ]
  },
  {
   "cell_type": "markdown",
   "id": "1faeda35-519b-4752-b3ed-ae25734c2c82",
   "metadata": {},
   "source": [
    "## Results and Discussion"
   ]
  },
  {
   "cell_type": "markdown",
   "id": "8893e9d0-2e58-478c-8572-37cf2173e393",
   "metadata": {},
   "source": [
    "To look at which features might be useful to predict the price of an Airbnb property, a regression plot of each feature against the response was made (using the training data set only). From these plots, it can be seen that the features `host_response_rate` and `host_acceptance_rate` don't seem to be strongly correlated with the target, price based on the above regression plots. As a result, these were dropped from further analysis."
   ]
  },
  {
   "cell_type": "markdown",
   "id": "d1921a03-f6b5-4b8e-a84b-c5ecf8f37625",
   "metadata": {},
   "source": [
    "```{figure} results/regression_plots.png\n",
    "---\n",
    "height: 600px\n",
    "name: regression-plots\n",
    "---\n",
    "Regression plots of each feature against the target, price, from the training data.\n",
    "```"
   ]
  },
  {
   "cell_type": "markdown",
   "id": "b46dd69a-9654-4d56-8fde-b1c6cc2dbfae",
   "metadata": {},
   "source": [
    "Values of `k` from 1 to 30 were trialled via 10-fold cross-validation to determine which value of `k` was optimal for the data. Results are shown in the figure below:"
   ]
  },
  {
   "cell_type": "markdown",
   "id": "854068ee-34fe-49bf-a9f0-b2685b4a3395",
   "metadata": {},
   "source": [
    "```{figure} results/k_optimization_plot.png\n",
    "---\n",
    "height: 400px\n",
    "name: optimization-plot\n",
    "---\n",
    "Results from 10-fold cross validation to choose `k`. Mean absolute error was used as the regression scoring metric.\n",
    "```"
   ]
  },
  {
   "cell_type": "markdown",
   "id": "91741a28-6834-48bd-8873-36f23d7893b8",
   "metadata": {},
   "source": [
    "Results how that at values higher than `k=10` there is little change in model predictive performance in terms of mean absolute error. In the interest of parsimony (choosing a simpler model over a more complex model), a value of `k=10` was selected to train the final model:"
   ]
  },
  {
   "cell_type": "code",
   "execution_count": 19,
   "id": "5e40adc5-c757-4ac5-bd92-fc4ec662dfc4",
   "metadata": {
    "tags": [
     "hide-input"
    ]
   },
   "outputs": [
    {
     "data": {
      "text/html": [
       "<div>\n",
       "<style scoped>\n",
       "    .dataframe tbody tr th:only-of-type {\n",
       "        vertical-align: middle;\n",
       "    }\n",
       "\n",
       "    .dataframe tbody tr th {\n",
       "        vertical-align: top;\n",
       "    }\n",
       "\n",
       "    .dataframe thead th {\n",
       "        text-align: right;\n",
       "    }\n",
       "</style>\n",
       "<table border=\"1\" class=\"dataframe\">\n",
       "  <thead>\n",
       "    <tr style=\"text-align: right;\">\n",
       "      <th></th>\n",
       "      <th>mae</th>\n",
       "    </tr>\n",
       "    <tr>\n",
       "      <th>k</th>\n",
       "      <th></th>\n",
       "    </tr>\n",
       "  </thead>\n",
       "  <tbody>\n",
       "    <tr>\n",
       "      <th>10</th>\n",
       "      <td>$40.98</td>\n",
       "    </tr>\n",
       "  </tbody>\n",
       "</table>\n",
       "</div>"
      ],
      "text/plain": [
       "       mae\n",
       "k         \n",
       "10  $40.98"
      ]
     },
     "execution_count": 19,
     "metadata": {},
     "output_type": "execute_result"
    }
   ],
   "source": [
    "pd.read_csv(\"results/test_performance.csv\", index_col=0)"
   ]
  },
  {
   "cell_type": "markdown",
   "id": "b49b76d4-82c5-4656-8e1b-1d6e7cb3836b",
   "metadata": {},
   "source": [
    "We see that the test performance is similar to the cross-validation performance from earlier. Our result indicates that our model has an mean absolute error of about \\$41 per night which is not too bad relative to the mean and standard deviation of our training data:"
   ]
  },
  {
   "cell_type": "code",
   "execution_count": 20,
   "id": "1ae66458-34f0-43d3-95c1-9362fa4730b2",
   "metadata": {
    "tags": [
     "hide-input"
    ]
   },
   "outputs": [
    {
     "data": {
      "text/html": [
       "<div>\n",
       "<style scoped>\n",
       "    .dataframe tbody tr th:only-of-type {\n",
       "        vertical-align: middle;\n",
       "    }\n",
       "\n",
       "    .dataframe tbody tr th {\n",
       "        vertical-align: top;\n",
       "    }\n",
       "\n",
       "    .dataframe thead th {\n",
       "        text-align: right;\n",
       "    }\n",
       "</style>\n",
       "<table border=\"1\" class=\"dataframe\">\n",
       "  <thead>\n",
       "    <tr style=\"text-align: right;\">\n",
       "      <th></th>\n",
       "      <th>price</th>\n",
       "    </tr>\n",
       "  </thead>\n",
       "  <tbody>\n",
       "    <tr>\n",
       "      <th>count</th>\n",
       "      <td>1662.000000</td>\n",
       "    </tr>\n",
       "    <tr>\n",
       "      <th>mean</th>\n",
       "      <td>132.717208</td>\n",
       "    </tr>\n",
       "    <tr>\n",
       "      <th>std</th>\n",
       "      <td>80.653163</td>\n",
       "    </tr>\n",
       "    <tr>\n",
       "      <th>min</th>\n",
       "      <td>20.000000</td>\n",
       "    </tr>\n",
       "    <tr>\n",
       "      <th>25%</th>\n",
       "      <td>79.000000</td>\n",
       "    </tr>\n",
       "    <tr>\n",
       "      <th>50%</th>\n",
       "      <td>113.000000</td>\n",
       "    </tr>\n",
       "    <tr>\n",
       "      <th>75%</th>\n",
       "      <td>160.000000</td>\n",
       "    </tr>\n",
       "    <tr>\n",
       "      <th>max</th>\n",
       "      <td>499.000000</td>\n",
       "    </tr>\n",
       "  </tbody>\n",
       "</table>\n",
       "</div>"
      ],
      "text/plain": [
       "             price\n",
       "count  1662.000000\n",
       "mean    132.717208\n",
       "std      80.653163\n",
       "min      20.000000\n",
       "25%      79.000000\n",
       "50%     113.000000\n",
       "75%     160.000000\n",
       "max     499.000000"
      ]
     },
     "execution_count": 20,
     "metadata": {},
     "output_type": "execute_result"
    }
   ],
   "source": [
    "pd.read_csv(\"data/processed/airbnb_train.csv\")[[\"price\"]].describe()"
   ]
  },
  {
   "cell_type": "markdown",
   "id": "e40575f1-82cc-41e9-8f7f-7cd06d32676f",
   "metadata": {},
   "source": [
    "At this point, our model can provide Airbnb hosts with an estimate of how they should price their property, but it could be improved by collecting more data, or doing more intensive feature exploration and engineering."
   ]
  },
  {
   "cell_type": "markdown",
   "id": "b380cabb-0558-4653-9f65-025a87f54bf0",
   "metadata": {},
   "source": [
    "## References"
   ]
  },
  {
   "cell_type": "markdown",
   "id": "79b55c6c-6548-4b8a-8709-dc566c576674",
   "metadata": {},
   "source": [
    "```{bibliography}\n",
    ":style: alpha\n",
    "```"
   ]
  }
 ],
 "metadata": {
  "kernelspec": {
   "display_name": "Python 3",
   "language": "python",
   "name": "python3"
  },
  "language_info": {
   "codemirror_mode": {
    "name": "ipython",
    "version": 3
   },
   "file_extension": ".py",
   "mimetype": "text/x-python",
   "name": "python",
   "nbconvert_exporter": "python",
   "pygments_lexer": "ipython3",
   "version": "3.9.5"
  },
  "toc-autonumbering": false
 },
 "nbformat": 4,
 "nbformat_minor": 5
}
